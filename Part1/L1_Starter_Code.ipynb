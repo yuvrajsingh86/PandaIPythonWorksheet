{
 "cells": [
  {
   "cell_type": "markdown",
   "metadata": {},
   "source": [
    "## Load Data from CSVs"
   ]
  },
  {
   "cell_type": "code",
   "execution_count": 2,
   "metadata": {
    "collapsed": true
   },
   "outputs": [],
   "source": [
    "import unicodecsv\n",
    "\n",
    "## Longer version of code (replaced with shorter, equivalent version below)\n",
    "\n",
    "# enrollments = []\n",
    "# f = open('enrollments.csv', 'rb')\n",
    "# reader = unicodecsv.DictReader(f)\n",
    "# for row in reader:\n",
    "#     enrollments.append(row)\n",
    "# f.close()\n",
    "\n",
    "with open('enrollments.csv', 'rb') as f:\n",
    "    reader = unicodecsv.DictReader(f)\n",
    "    enrollments = list(reader)"
   ]
  },
  {
   "cell_type": "code",
   "execution_count": 3,
   "metadata": {
    "collapsed": false
   },
   "outputs": [
    {
     "name": "stdout",
     "output_type": "stream",
     "text": [
      "{u'lessons_completed': u'0.0', u'num_courses_visited': u'1.0', u'total_minutes_visited': u'11.6793745', u'projects_completed': u'0.0', u'acct': u'0', u'utc_date': u'2015-01-09'}\n",
      "{u'lesson_key': u'3176718735', u'processing_state': u'EVALUATED', u'account_key': u'256', u'assigned_rating': u'UNGRADED', u'completion_date': u'2015-01-16', u'creation_date': u'2015-01-14'}\n"
     ]
    }
   ],
   "source": [
    "#####################################\n",
    "#                 1                 #\n",
    "#####################################\n",
    "\n",
    "## Read in the data from daily_engagement.csv and project_submissions.csv \n",
    "## and store the results in the below variables.\n",
    "## Then look at the first row of each table.\n",
    "import unicodecsv\n",
    "\n",
    "#Always a helper function\n",
    "def read_csv(filename):\n",
    "    with open(filename, 'rb') as f:\n",
    "        reader = unicodecsv.DictReader(f)\n",
    "        return list(reader)\n",
    "\n",
    "\n",
    "\n",
    "with open('daily_engagement.csv','rb') as f:\n",
    "    reader= unicodecsv.DictReader(f)\n",
    "    daily_engagement=list(reader)\n",
    "print daily_engagement[0]\n",
    "\n",
    "with open('project_submissions.csv','rb') as f:\n",
    "    reader=unicodecsv.DictReader(f)\n",
    "    project_submissions=list(reader)\n",
    "print project_submissions[0]"
   ]
  },
  {
   "cell_type": "markdown",
   "metadata": {},
   "source": [
    "## Problems in the Data"
   ]
  },
  {
   "cell_type": "code",
   "execution_count": 31,
   "metadata": {
    "collapsed": false
   },
   "outputs": [
    {
     "name": "stdout",
     "output_type": "stream",
     "text": [
      "{u'lessons_completed': 0, u'num_courses_visited': 1, u'total_minutes_visited': 11.6793745, u'projects_completed': 0, 'account_key': u'0', u'utc_date': datetime.datetime(2015, 1, 9, 0, 0)}\n"
     ]
    }
   ],
   "source": [
    "#####################################\n",
    "#                 3                 #\n",
    "#####################################\n",
    "\n",
    "## Rename the \"acct\" column in the daily_engagement table to \"account_key\".\n",
    "\n",
    "for enr in daily_engagement:\n",
    "    enr['account_key']=enr.pop('acct')\n",
    "print daily_engagement[0]"
   ]
  },
  {
   "cell_type": "code",
   "execution_count": 32,
   "metadata": {
    "collapsed": true
   },
   "outputs": [],
   "source": [
    "def UniqueValue(dic,entity):\n",
    "    value=set()\n",
    "    for elem in dic:\n",
    "       # if elem[entity] not in value:\n",
    "        value.add(elem[entity])\n",
    "    return value"
   ]
  },
  {
   "cell_type": "markdown",
   "metadata": {},
   "source": [
    "## Fixing Data Types"
   ]
  },
  {
   "cell_type": "code",
   "execution_count": 4,
   "metadata": {
    "collapsed": false
   },
   "outputs": [
    {
     "data": {
      "text/plain": [
       "{u'account_key': u'448',\n",
       " u'cancel_date': datetime.datetime(2015, 1, 14, 0, 0),\n",
       " u'days_to_cancel': 65,\n",
       " u'is_canceled': True,\n",
       " u'is_udacity': True,\n",
       " u'join_date': datetime.datetime(2014, 11, 10, 0, 0),\n",
       " u'status': u'canceled'}"
      ]
     },
     "execution_count": 4,
     "metadata": {},
     "output_type": "execute_result"
    }
   ],
   "source": [
    "from datetime import datetime as dt\n",
    "\n",
    "# Takes a date as a string, and returns a Python datetime object. \n",
    "# If there is no date given, returns None\n",
    "def parse_date(date):\n",
    "    if date == '':\n",
    "        return None\n",
    "    else:\n",
    "        return dt.strptime(date, '%Y-%m-%d')\n",
    "    \n",
    "# Takes a string which is either an empty string or represents an integer,\n",
    "# and returns an int or None.\n",
    "def parse_maybe_int(i):\n",
    "    if i == '':\n",
    "        return None\n",
    "    else:\n",
    "        return int(i)\n",
    "\n",
    "# Clean up the data types in the enrollments table\n",
    "for enrollment in enrollments:\n",
    "    enrollment['cancel_date'] = parse_date(enrollment['cancel_date'])\n",
    "    enrollment['days_to_cancel'] = parse_maybe_int(enrollment['days_to_cancel'])\n",
    "    enrollment['is_canceled'] = enrollment['is_canceled'] == 'True'\n",
    "    enrollment['is_udacity'] = enrollment['is_udacity'] == 'True'\n",
    "    enrollment['join_date'] = parse_date(enrollment['join_date'])\n",
    "    \n",
    "enrollments[0]"
   ]
  },
  {
   "cell_type": "code",
   "execution_count": 5,
   "metadata": {
    "collapsed": false
   },
   "outputs": [
    {
     "data": {
      "text/plain": [
       "{u'acct': u'0',\n",
       " u'lessons_completed': 0,\n",
       " u'num_courses_visited': 1,\n",
       " u'projects_completed': 0,\n",
       " u'total_minutes_visited': 11.6793745,\n",
       " u'utc_date': datetime.datetime(2015, 1, 9, 0, 0)}"
      ]
     },
     "execution_count": 5,
     "metadata": {},
     "output_type": "execute_result"
    }
   ],
   "source": [
    "# Clean up the data types in the engagement table\n",
    "for engagement_record in daily_engagement:\n",
    "    engagement_record['lessons_completed'] = int(float(engagement_record['lessons_completed']))\n",
    "    engagement_record['num_courses_visited'] = int(float(engagement_record['num_courses_visited']))\n",
    "    engagement_record['projects_completed'] = int(float(engagement_record['projects_completed']))\n",
    "    engagement_record['total_minutes_visited'] = float(engagement_record['total_minutes_visited'])\n",
    "    engagement_record['utc_date'] = parse_date(engagement_record['utc_date'])\n",
    "    \n",
    "daily_engagement[0]"
   ]
  },
  {
   "cell_type": "code",
   "execution_count": 6,
   "metadata": {
    "collapsed": false
   },
   "outputs": [
    {
     "data": {
      "text/plain": [
       "{u'account_key': u'256',\n",
       " u'assigned_rating': u'UNGRADED',\n",
       " u'completion_date': datetime.datetime(2015, 1, 16, 0, 0),\n",
       " u'creation_date': datetime.datetime(2015, 1, 14, 0, 0),\n",
       " u'lesson_key': u'3176718735',\n",
       " u'processing_state': u'EVALUATED'}"
      ]
     },
     "execution_count": 6,
     "metadata": {},
     "output_type": "execute_result"
    }
   ],
   "source": [
    "# Clean up the data types in the submissions table\n",
    "for submission in project_submissions:\n",
    "    submission['completion_date'] = parse_date(submission['completion_date'])\n",
    "    submission['creation_date'] = parse_date(submission['creation_date'])\n",
    "\n",
    "project_submissions[0]"
   ]
  },
  {
   "cell_type": "markdown",
   "metadata": {},
   "source": [
    "## Investigating the Data"
   ]
  },
  {
   "cell_type": "code",
   "execution_count": 43,
   "metadata": {
    "collapsed": false
   },
   "outputs": [],
   "source": [
    "#####################################\n",
    "#                 2                 #\n",
    "#####################################\n",
    "\n",
    "## Find the total number of rows and the number of unique students (account keys)\n",
    "## in each table.\n",
    "\n",
    "\n",
    "\n",
    "\n",
    "enrollments_set=UniqueValue(enrollments,'account_key')\n",
    "daily_engagement_set=UniqueValue(daily_engagement,'account_key')\n",
    "project_submissions_set= UniqueValue(project_submissions,'account_key')\n",
    "\n",
    "diff= list(enrollments_set-daily_engagement_set)\n",
    " \n",
    "\n",
    "    "
   ]
  },
  {
   "cell_type": "code",
   "execution_count": 75,
   "metadata": {
    "collapsed": false
   },
   "outputs": [
    {
     "name": "stdout",
     "output_type": "stream",
     "text": [
      "{u'status': u'canceled', u'is_udacity': True, u'is_canceled': True, u'join_date': datetime.datetime(2015, 1, 10, 0, 0), u'account_key': u'1304', u'cancel_date': datetime.datetime(2015, 3, 10, 0, 0), u'days_to_cancel': 59}\n",
      "{u'status': u'canceled', u'is_udacity': True, u'is_canceled': True, u'join_date': datetime.datetime(2015, 3, 10, 0, 0), u'account_key': u'1304', u'cancel_date': datetime.datetime(2015, 6, 17, 0, 0), u'days_to_cancel': 99}\n",
      "{u'status': u'current', u'is_udacity': True, u'is_canceled': False, u'join_date': datetime.datetime(2015, 2, 25, 0, 0), u'account_key': u'1101', u'cancel_date': None, u'days_to_cancel': None}\n"
     ]
    }
   ],
   "source": [
    "for en in enrollments:\n",
    "    if en['account_key'] in diff:\n",
    "        if en['days_to_cancel'] is not None:\n",
    "            if abs((en['cancel_date']-en['join_date']).days)>0:\n",
    "                #pass\n",
    "                print en\n",
    "        else:\n",
    "            #pass\n",
    "            print en\n",
    "        \n",
    "\n",
    "for ps in project_submissions:\n",
    "    if ps['account_key']==1101:\n",
    "        print ps\n",
    "        "
   ]
  },
  {
   "cell_type": "markdown",
   "metadata": {},
   "source": [
    "## Missing Engagement Records"
   ]
  },
  {
   "cell_type": "code",
   "execution_count": null,
   "metadata": {
    "collapsed": true
   },
   "outputs": [],
   "source": [
    "#####################################\n",
    "#                 4                 #\n",
    "#####################################\n",
    "\n",
    "## Find any one student enrollments where the student is missing from the daily engagement table.\n",
    "## Output that enrollment."
   ]
  },
  {
   "cell_type": "markdown",
   "metadata": {},
   "source": [
    "## Checking for More Problem Records"
   ]
  },
  {
   "cell_type": "code",
   "execution_count": null,
   "metadata": {
    "collapsed": true
   },
   "outputs": [],
   "source": [
    "#####################################\n",
    "#                 5                 #\n",
    "#####################################\n",
    "\n",
    "## Find the number of surprising data points (enrollments missing from\n",
    "## the engagement table) that remain, if any."
   ]
  },
  {
   "cell_type": "markdown",
   "metadata": {},
   "source": [
    "## Tracking Down the Remaining Problems"
   ]
  },
  {
   "cell_type": "code",
   "execution_count": 76,
   "metadata": {
    "collapsed": false
   },
   "outputs": [
    {
     "data": {
      "text/plain": [
       "6"
      ]
     },
     "execution_count": 76,
     "metadata": {},
     "output_type": "execute_result"
    }
   ],
   "source": [
    "# Create a set of the account keys for all Udacity test accounts\n",
    "udacity_test_accounts = set()\n",
    "for enrollment in enrollments:\n",
    "    if enrollment['is_udacity']:\n",
    "        udacity_test_accounts.add(enrollment['account_key'])\n",
    "len(udacity_test_accounts)"
   ]
  },
  {
   "cell_type": "code",
   "execution_count": 78,
   "metadata": {
    "collapsed": true
   },
   "outputs": [],
   "source": [
    "# Given some data with an account_key field, removes any records corresponding to Udacity test accounts\n",
    "def remove_udacity_accounts(data):\n",
    "    non_udacity_data = []\n",
    "    for data_point in data:\n",
    "        if data_point['account_key'] not in udacity_test_accounts:\n",
    "            non_udacity_data.append(data_point)\n",
    "    return non_udacity_data"
   ]
  },
  {
   "cell_type": "code",
   "execution_count": 79,
   "metadata": {
    "collapsed": false
   },
   "outputs": [
    {
     "name": "stdout",
     "output_type": "stream",
     "text": [
      "1622\n",
      "135656\n",
      "3634\n"
     ]
    }
   ],
   "source": [
    "# Remove Udacity test accounts from all three tables\n",
    "non_udacity_enrollments = remove_udacity_accounts(enrollments)\n",
    "non_udacity_engagement = remove_udacity_accounts(daily_engagement)\n",
    "non_udacity_submissions = remove_udacity_accounts(project_submissions)\n",
    "\n",
    "print len(non_udacity_enrollments)\n",
    "print len(non_udacity_engagement)\n",
    "print len(non_udacity_submissions)"
   ]
  },
  {
   "cell_type": "markdown",
   "metadata": {},
   "source": [
    "## Refining the Question"
   ]
  },
  {
   "cell_type": "code",
   "execution_count": 98,
   "metadata": {
    "collapsed": false
   },
   "outputs": [
    {
     "name": "stdout",
     "output_type": "stream",
     "text": [
      "995\n",
      "1622\n"
     ]
    }
   ],
   "source": [
    "#####################################\n",
    "#                 6                 #\n",
    "#####################################\n",
    "\n",
    "## Create a dictionary named paid_students containing all students who either\n",
    "## haven't canceled yet or who remained enrolled for more than 7 days. The keys\n",
    "## should be account keys, and the values should be the date the student enrolled.\n",
    "\n",
    "paid_students ={}\n",
    "for enr in non_udacity_enrollments:\n",
    "    temp={}\n",
    "    \n",
    "    if enr['days_to_cancel'] is None or enr['days_to_cancel']>7:\n",
    "        if enr['account_key'] not in paid_students or \\\n",
    "            enr['join_date']>paid_students[enr['account_key']]:\n",
    "                paid_students[enr['account_key']] = enr['join_date']\n",
    "    else:\n",
    "        pass\n",
    "        #print 'Yuvraj'\n",
    "print len(paid_students)\n",
    " "
   ]
  },
  {
   "cell_type": "markdown",
   "metadata": {},
   "source": [
    "## Getting Data from First Week"
   ]
  },
  {
   "cell_type": "code",
   "execution_count": 112,
   "metadata": {
    "collapsed": true
   },
   "outputs": [],
   "source": [
    "# Takes a student's join date and the date of a specific engagement record,\n",
    "# and returns True if that engagement record happened within one week\n",
    "# of the student joining.\n",
    "def within_one_week(join_date, engagement_date):\n",
    "    time_delta = engagement_date - join_date\n",
    "    return time_delta.days < 7 and time_delta.days>=0"
   ]
  },
  {
   "cell_type": "code",
   "execution_count": 113,
   "metadata": {
    "collapsed": false
   },
   "outputs": [
    {
     "name": "stdout",
     "output_type": "stream",
     "text": [
      "6919\n",
      "135656\n"
     ]
    }
   ],
   "source": [
    "#####################################\n",
    "#                 7                 #\n",
    "#####################################\n",
    "\n",
    "## Create a list of rows from the engagement table including only rows where\n",
    "## the student is one of the paid students you just found, and the date is within\n",
    "## one week of the student's join date.\n",
    "paid_engagement_in_first_week = []\n",
    "\n",
    "for nue in non_udacity_engagement:\n",
    "    if nue['account_key'] in paid_students:\n",
    "        if within_one_week(paid_students[nue['account_key']],nue['utc_date']):\n",
    "            paid_engagement_in_first_week.append(nue)\n",
    "\n",
    "print len(paid_engagement_in_first_week)\n",
    "print len(non_udacity_engagement)"
   ]
  },
  {
   "cell_type": "markdown",
   "metadata": {},
   "source": [
    "## Exploring Student Engagement"
   ]
  },
  {
   "cell_type": "code",
   "execution_count": 161,
   "metadata": {
    "collapsed": true
   },
   "outputs": [],
   "source": [
    "from collections import defaultdict\n",
    "\n",
    "# Create a dictionary of engagement grouped by student.\n",
    "# The keys are account keys, and the values are lists of engagement records.\n",
    "def groupElement(data, keyItem):\n",
    "    group_data = defaultdict(list)\n",
    "    for record in data:\n",
    "        key = record[keyItem]\n",
    "        group_data[key].append(record)\n",
    "    return group_data"
   ]
  },
  {
   "cell_type": "code",
   "execution_count": 174,
   "metadata": {
    "collapsed": false
   },
   "outputs": [],
   "source": [
    "# Create a dictionary with the total minutes each student spent in the classroom during the first week.\n",
    "# The keys are account keys, and the values are numbers (total minutes)\n",
    "\n",
    "def sumCertainRecords(data,sumItem):\n",
    "    total_metrix = {}\n",
    "    for key,value in data.items():\n",
    "        total=0\n",
    "        for records in value:\n",
    "            total+=records[sumItem]\n",
    "        total_metrix[key]= total\n",
    "    return total_metrix"
   ]
  },
  {
   "cell_type": "code",
   "execution_count": 175,
   "metadata": {
    "collapsed": false
   },
   "outputs": [
    {
     "name": "stdout",
     "output_type": "stream",
     "text": [
      "Mean: 1.63618090452\n",
      "Standard deviation: 3.00256129983\n",
      "Minimum: 0\n",
      "Maximum: 36\n"
     ]
    }
   ],
   "source": [
    "import numpy as np\n",
    "\n",
    "# Summarize the data about minutes spent in the classroom\n",
    "def descData(data):\n",
    "    print 'Mean:', np.mean(data)\n",
    "    print 'Standard deviation:', np.std(data)\n",
    "    print 'Minimum:', np.min(data)\n",
    "    print 'Maximum:', np.max(data)\n",
    "\n",
    "total_lessons= groupElement(paid_engagement_in_first_week,'account_key')\n",
    "sum_of_items=sumCertainRecords(total_lessons,'lessons_completed')\n",
    "descData(sum_of_items.values())"
   ]
  },
  {
   "cell_type": "markdown",
   "metadata": {},
   "source": [
    "## Debugging Data Analysis Code"
   ]
  },
  {
   "cell_type": "code",
   "execution_count": 118,
   "metadata": {
    "collapsed": false
   },
   "outputs": [],
   "source": [
    "#####################################\n",
    "#                 8                 #\n",
    "#####################################\n",
    "\n",
    "## Go through a similar process as before to see if there is a problem.\n",
    "## Locate at least one surprising piece of data, output it, and take a look at it.\n",
    "\n",
    "\n",
    "        \n",
    "    "
   ]
  },
  {
   "cell_type": "markdown",
   "metadata": {},
   "source": [
    "## Lessons Completed in First Week"
   ]
  },
  {
   "cell_type": "code",
   "execution_count": 126,
   "metadata": {
    "collapsed": false
   },
   "outputs": [
    {
     "name": "stdout",
     "output_type": "stream",
     "text": [
      "mean= 14.198541329\n",
      "standard Deviation= 16.0229362895\n",
      "max= 75\n",
      "min= 0\n"
     ]
    }
   ],
   "source": [
    "#####################################\n",
    "#                 9                 #\n",
    "#####################################\n",
    "\n",
    "## Adapt the code above to find the mean, standard deviation, minimum, and maximum for\n",
    "## the number of lessons completed by each student during the first week. Try creating\n",
    "## one or more functions to re-use the code above.\n",
    "##\n",
    "import numpy as np\n",
    "number_of_lesson_completed = defaultdict(list)\n",
    "for en in non_udacity_engagement:\n",
    "    account_key=en['account_key']\n",
    "    lesson_completed=en['lessons_completed']\n",
    "    number_of_lesson_completed[account_key].append(lesson_completed)\n",
    "\n",
    "sum_number_of_lesson_completed={}\n",
    "for acc,value in number_of_lesson_completed.iteritems():\n",
    "    sum_number_of_lesson_completed[acc]=np.sum(value)\n",
    "\n",
    "total_lessons= sum_number_of_lesson_completed.values()\n",
    "\n",
    "print 'mean=',np.mean(total_lessons)\n",
    "print 'standard Deviation=',np.std(total_lessons)\n",
    "print 'max=',np.max(total_lessons)\n",
    "print 'min=',np.min(total_lessons)\n",
    "\n",
    "#or we can do the next one\n",
    "\n"
   ]
  },
  {
   "cell_type": "code",
   "execution_count": 130,
   "metadata": {
    "collapsed": false
   },
   "outputs": [],
   "source": [
    "total_lesson_by_account = {}\n",
    "for account_key, engagement_for_student in engagement_by_account.items():\n",
    "    total_lessons_completed = 0\n",
    "    for engagement_record in engagement_for_student:\n",
    "        total_lessons_completed += engagement_record['lessons_completed']\n",
    "    total_lesson_by_account[account_key] = total_lessons_completed\n",
    "\n"
   ]
  },
  {
   "cell_type": "code",
   "execution_count": 131,
   "metadata": {
    "collapsed": false
   },
   "outputs": [
    {
     "name": "stdout",
     "output_type": "stream",
     "text": [
      "Mean: 1.63618090452\n",
      "Standard deviation: 3.00256129983\n",
      "Minimum: 0\n",
      "Maximum: 36\n"
     ]
    }
   ],
   "source": [
    "import numpy as np\n",
    "\n",
    "# Summarize the data about minutes spent in the classroom\n",
    "total_lesson = total_lesson_by_account.values()\n",
    "print 'Mean:', np.mean(total_lesson)\n",
    "print 'Standard deviation:', np.std(total_lesson)\n",
    "print 'Minimum:', np.min(total_lesson)\n",
    "print 'Maximum:', np.max(total_lesson)"
   ]
  },
  {
   "cell_type": "code",
   "execution_count": 140,
   "metadata": {
    "collapsed": false
   },
   "outputs": [
    {
     "name": "stdout",
     "output_type": "stream",
     "text": [
      "{u'lessons_completed': 10, u'num_courses_visited': 4, u'total_minutes_visited': 489.042620667, u'projects_completed': 0, 'account_key': u'633', u'utc_date': datetime.datetime(2015, 7, 17, 0, 0)}\n",
      "{u'lessons_completed': 8, u'num_courses_visited': 2, u'total_minutes_visited': 264.106566334, u'projects_completed': 0, 'account_key': u'633', u'utc_date': datetime.datetime(2015, 7, 18, 0, 0)}\n",
      "{u'lessons_completed': 3, u'num_courses_visited': 1, u'total_minutes_visited': 173.814019, u'projects_completed': 0, 'account_key': u'633', u'utc_date': datetime.datetime(2015, 7, 19, 0, 0)}\n",
      "{u'lessons_completed': 6, u'num_courses_visited': 2, u'total_minutes_visited': 259.304326334, u'projects_completed': 0, 'account_key': u'633', u'utc_date': datetime.datetime(2015, 7, 20, 0, 0)}\n",
      "{u'lessons_completed': 2, u'num_courses_visited': 1, u'total_minutes_visited': 108.428018, u'projects_completed': 0, 'account_key': u'633', u'utc_date': datetime.datetime(2015, 7, 21, 0, 0)}\n",
      "{u'lessons_completed': 6, u'num_courses_visited': 2, u'total_minutes_visited': 290.0114085, u'projects_completed': 0, 'account_key': u'633', u'utc_date': datetime.datetime(2015, 7, 22, 0, 0)}\n",
      "{u'lessons_completed': 1, u'num_courses_visited': 1, u'total_minutes_visited': 104.482101, u'projects_completed': 0, 'account_key': u'633', u'utc_date': datetime.datetime(2015, 7, 23, 0, 0)}\n"
     ]
    }
   ],
   "source": [
    "#Analysis\n",
    "\n",
    "for key,value in total_lesson_by_account.iteritems():\n",
    "    if value == 36:\n",
    "        for item in engagement_by_account[key]:\n",
    "            print item\n"
   ]
  },
  {
   "cell_type": "markdown",
   "metadata": {},
   "source": [
    "## Number of Visits in First Week"
   ]
  },
  {
   "cell_type": "code",
   "execution_count": 177,
   "metadata": {
    "collapsed": false
   },
   "outputs": [
    {
     "name": "stdout",
     "output_type": "stream",
     "text": [
      "Mean: 2.86733668342\n",
      "Standard deviation: 2.25519800292\n",
      "Minimum: 0\n",
      "Maximum: 7\n"
     ]
    }
   ],
   "source": [
    "######################################\n",
    "#                 10                 #\n",
    "######################################\n",
    "\n",
    "## Find the mean, standard deviation, minimum, and maximum for the number of\n",
    "## days each student visits the classroom during the first week.\n",
    "for enr in paid_engagement_in_first_week:\n",
    "    if enr['num_courses_visited']>0:\n",
    "        enr['has_visited']=1\n",
    "    else:\n",
    "        enr['has_visited']=0\n",
    "            \n",
    "\n",
    "total_lessons= groupElement(paid_engagement_in_first_week,'account_key')\n",
    "sum_of_items=sumCertainRecords(total_lessons,'has_visited')\n",
    "descData(sum_of_items.values())\n"
   ]
  },
  {
   "cell_type": "markdown",
   "metadata": {},
   "source": [
    "## Splitting out Passing Students"
   ]
  },
  {
   "cell_type": "code",
   "execution_count": 228,
   "metadata": {
    "collapsed": false
   },
   "outputs": [
    {
     "name": "stdout",
     "output_type": "stream",
     "text": [
      " 4527\n",
      "2392\n"
     ]
    }
   ],
   "source": [
    "######################################\n",
    "#                 11                 #\n",
    "######################################\n",
    "\n",
    "## Create two lists of engagement data for paid students in the first week.\n",
    "## The first list should contain data for students who eventually pass the\n",
    "## subway project, and the second list should contain data for students\n",
    "## who do not.\n",
    "#create paid submission\n",
    "paid_submission=[]\n",
    "for ent in non_udacity_submissions:\n",
    "    if ent['account_key'] in paid_students.keys():\n",
    "        paid_submission.append(ent)\n",
    "\n",
    "pass_subway_project=set()\n",
    "non_pass_subway_project=set()\n",
    "\n",
    "subway_project_lesson_keys = ['746169184', '3176718735']\n",
    "for ent in paid_submission:\n",
    "    if ent['assigned_rating'] in ['PASSED','DISTINCTION'] and ent['lesson_key'] in subway_project_lesson_keys:\n",
    "        pass_subway_project.add(ent['account_key'])\n",
    "    else:\n",
    "        non_pass_subway_project.add(ent['account_key'])\n",
    "    \n",
    "passing_engagement =[]\n",
    "non_passing_engagement =[]\n",
    "\n",
    "for ent in paid_engagement_in_first_week:\n",
    "    if ent['account_key'] in pass_subway_project:\n",
    "        passing_engagement.append(ent)\n",
    "    else:\n",
    "        non_passing_engagement.append(ent)\n",
    "        \n",
    "print len(passing_engagement)\n",
    "print len(non_passing_engagement)\n"
   ]
  },
  {
   "cell_type": "markdown",
   "metadata": {},
   "source": [
    "## Comparing the Two Student Groups"
   ]
  },
  {
   "cell_type": "code",
   "execution_count": 231,
   "metadata": {
    "collapsed": false
   },
   "outputs": [
    {
     "name": "stdout",
     "output_type": "stream",
     "text": [
      "[1452.709982333, 809.546996001, 614.9778563333, 494.88049616599994, 248.12435916639998, 713.3479524992999, 392.473794834, 35.531418, 0.0, 83.295313, 0.0, 211.3875440003, 101.387314333, 1482.9020456663002, 213.4699951663, 0.0, 199.06043566667, 338.67828999970004, 405.600248833, 421.6092228329, 192.665344, 497.8218254996, 442.37721166627, 0.0, 0.0, 0.0, 0.0, 488.40353200030006, 335.5259626667, 0.0, 1047.649452501, 311.07236283327, 1166.4244791677, 315.44705699977, 931.3076661670001, 383.1542506668, 137.2655706667, 7.94751166667, 121.07599299993, 402.42499849989997, 1020.3306876671, 830.83625116633, 1203.2224428333002, 70.48434450007001, 1435.0160603327001, 44.477798999970005, 429.03252133340004, 884.915487, 0.0, 143.048056833, 0.0, 0.0, 670.3438828333, 256.4187193326, 109.5149769999, 406.0453698336, 303.55134400000003, 61.33310733329999, 514.0743979996, 0.0, 20.247478, 1001.813550333, 184.162204667, 1065.2951291673999, 45.9874008334, 119.916663667, 90.90472849993, 46.3023048333, 0.0, 164.27089083347, 1167.52455983297, 277.0299235, 1075.0625133337, 145.70615016660003, 148.7306783333, 29.0687406666, 171.2928940001, 839.123771167, 312.1800340007, 1001.5888595, 0.0, 253.9870258334, 123.2915048333, 0.0, 69.6578351667, 1378.195091668, 809.2138958339, 765.6402170004, 180.413814, 340.70627749999994, 0.0, 793.6706421670001, 421.960349833, 847.3979861667, 488.3752611667, 363.94914149996, 847.38115366667, 858.37418699973, 39.4918656667, 696.5725646662999, 433.22729549969995, 437.22883383330003, 81.51043433337, 1024.0636758326, 77.9742268333, 0.0, 13.2610473333, 855.4038108340001, 0.0, 0.0, 278.6769970004, 501.941580166, 187.9226685, 129.087694, 124.52342500033, 246.61175300029998, 780.4545511666701, 317.10422516660003, 525.6444536663, 84.9883638333, 114.43403466663, 751.2236896667, 611.3200641666999, 0.0, 8.46994183333, 45.3963998333, 116.8988095, 105.24544450007, 0.0, 294.34356566670004, 272.16654083369997, 1245.8182150003, 187.25140866697, 0.0, 18.9512853333, 507.1024986672999, 932.3012898327, 330.1826238337, 40.220247, 931.3838908327, 0.0, 467.5716475007, 704.5008775003, 197.41214399993, 9.75699783333, 1168.2526861667002, 197.0435864997, 18.576384666670002, 101.1193401667, 0.0, 11.554518, 0.0, 513.8126981664001, 893.4411686660001, 201.21822283370003, 405.0228675003, 2050.1156751667004, 544.992658666, 52.9136506667, 545.9623025, 653.1940411656001, 382.93037050067, 321.2057135, 432.987765666, 0.0, 56.835209, 736.9791355, 230.70437450010002, 396.82058733329995, 80.2133103333, 1196.803629999, 0.0, 0.0, 696.2475044997, 34.1685658333, 613.2567715002999, 1017.1034851664001, 591.1435670003, 414.253240333, 86.4587005, 90.3995656667, 32.447970500029996, 640.0351108333, 0.0, 586.7405209996, 943.188117167, 0.0, 430.801675833, 1579.12122666663, 447.93897783336996, 931.1036911666699, 657.2052335000001, 1591.3228143334, 766.256315667, 556.1906033333, 500.9127926667, 57.2638435, 741.2804391669999, 611.4195701674, 604.355107166, 0.0, 0.0, 239.61664966700002, 36.434234, 364.480768, 59.7725306667, 203.3427993337, 391.3939735, 0.0, 4.24015233333, 0.0, 532.5829673333, 197.066153, 506.55911883299996, 30.5476253333, 803.3391453328, 65.9101326667, 384.69492683359994, 3.3318835, 427.5369333332, 0.0, 63.79716583327, 34.50448516667, 0.0, 2.17768916667, 808.5665558337, 537.5285965007, 293.4918854997, 106.2245978334, 227.6363853331, 0.0, 1035.306503999, 752.4780518326, 500.4921706667001, 104.20388850009999, 77.7392298333, 9.64132116667, 0.0, 535.00554450033, 2.4822425, 762.169280667, 712.1588875006701, 122.48917700033, 84.6351145, 4.56274816667, 669.9961104997, 123.5804105, 277.3369746671, 288.9210591667, 0.0, 46.605140666699995, 554.59261383367, 108.47527400000001, 877.8003651663, 183.134135333, 231.0283105, 980.5763799994, 493.53649199967003, 143.78600349967, 626.2345113327, 4.26499566667, 265.47810483300003, 62.84829066659999, 1381.1028195004, 454.17951166700004, 0.0, 943.8555468324001, 204.02415449966998, 557.5625511664, 1047.4820013337, 95.1225038333, 0.0, 1026.8480728333, 1096.72738949933, 79.9306696666, 374.365616, 514.86060716603, 141.19407999967, 438.50690233336, 27.37808133337, 547.552952834, 913.6758890002999, 783.3383063341, 570.776941833, 1051.5771371676, 2375.7954986677, 414.12743866659997, 12.9807116667, 589.8798286670001, 1887.391213833, 586.7042849994001, 418.01940599970004, 310.2486779997, 146.89298433300002, 95.4642313333, 651.9806806667, 601.3632028330001, 629.3766914993301, 247.9964674996, 1346.7158483327, 479.86306116670005, 6.20617616667, 1251.6466043334, 114.84451633329999, 0.0, 0.0, 130.12347833367, 1013.3833969996999, 179.4719088333, 983.375040335, 65.6221875, 235.49969150033, 119.12030049999998, 0.0, 155.1361575, 0.0, 397.24734133329997, 859.426280833, 0.0, 1426.2515225012999, 355.96292199997, 1669.9007213329999, 370.8747679997, 667.7495933323299, 638.196504333, 0.0, 448.5325424996, 605.7708455, 219.2389440004, 315.34049566659996, 686.7681608344001, 114.39214366666, 633.1473566663, 4.55604183333, 356.77551816640005, 231.80801666640002, 186.549237333, 20.8106506667, 90.48065633329999, 0.0, 704.5521115003299, 53.5545175, 310.04241416702996, 416.49598383333, 0.0, 1036.951593167, 183.7893518334, 440.96130916723, 20.879544833329998, 41.7786686667, 0.0, 1421.7436063333, 307.7543378337, 989.113641833, 769.207330667, 32.0522478333, 399.2498304993, 266.1378745, 285.36239183329997, 530.1415103337, 0.0, 51.0695815, 1410.5316330013002, 33.4956098333, 334.5606256663, 743.1407118340001, 0.0, 68.0673978333, 0.0, 722.84210483367, 22.14904683337, 951.118714666, 0.0, 55.49376599997, 578.9502861663, 385.2513571667001, 86.7824926667, 6.72066133333, 367.3854126667, 343.6706583329, 196.3044158337, 888.6124170002998, 59.239222, 843.170594833, 2778.3161446706704, 1735.943607166, 657.0126268326, 1341.720517667, 1217.1688571673, 448.741092333, 0.0, 817.9997333323399, 42.3843405, 23.55166316667, 220.21062866679998, 0.0, 37.6347753333, 58.3151085, 0.0, 677.2790736659999, 1053.7764165013, 51.9296121667, 0.0, 73.6446115, 212.1774728337, 925.7537420007, 446.4724451667, 0.0, 0.0, 1208.05215466633, 131.7464566667, 908.4660900005999, 298.253430333, 28.5667518333, 414.14088366667, 924.2469394994, 907.111293668, 0.0, 173.9382718334, 120.55847799993, 911.11994133237, 400.8135763341, 0.0, 0.0, 496.99219366667, 293.383122167, 736.3565788330001, 346.5030268336, 422.27366000010005, 6.95969283333, 856.8375048337, 0.0, 0.0, 284.6907063333, 175.613687167, 0.0, 39.485681500000005, 600.5757328336, 221.72389316627002, 8.3032715, 635.5124964993, 736.5973803337, 307.0653258337, 75.8750386667, 92.3539813334, 388.7726185, 459.3740381662999, 504.04492916670006, 2.8138905, 229.2620115, 32.8227305, 394.5387589999, 237.7646521667, 84.558989, 1689.189059835, 884.7240451653, 224.91582050030001, 169.3917738333, 89.0572956666, 53.1803671667, 503.05470083299997, 207.27739616670002, 131.94636750003, 89.6344988334, 116.03298466660002, 633.4301786670001, 749.194206334, 120.87673000033001, 92.5594045, 765.55279683203, 962.5736773336, 0.0, 0.0, 630.1675615003, 531.8882431671, 532.6464248333, 3564.7332644989997, 448.471384167, 73.5741316667, 264.5287276666, 700.4743598327, 129.1323983333, 105.06483083340001, 64.7772518334, 944.5557876659999, 609.2861186673, 122.07255516670001, 729.8468485, 320.97561616674, 107.74437683336001, 2530.5614099997, 71.4977216667, 58.36346116669999, 0.0, 30.3670653333, 662.64059800003, 168.3080953333, 836.3458141666999, 421.2835453327, 593.1472776666001, 2393.5421573319004, 272.6840003337, 955.78319766497, 4.58531166667, 33.3214046667, 0.0, 255.53718516670003, 269.194508, 570.5658495, 109.141489, 302.608719833, 283.36202233326, 195.9300631667, 417.4064971669, 42.4569508333, 0.0, 638.934161833, 211.5840809997, 1420.1479191659998, 371.26458716729996, 110.09569266679999, 322.475557667, 314.3331800003, 47.1679638333, 1024.109326834, 589.6171318323301, 427.764673834, 91.3514995, 106.72208133333001, 0.0, 595.2719906673, 401.97479050029995, 3.22752383333, 30.6256575, 0.0, 629.7823334996999, 465.58233333400005, 455.19857933369997, 422.6295078334, 594.0435458336, 1896.7540938320003, 745.1146233329999, 172.5712248333, 7.1116735, 491.9087078335, 167.606683, 343.35795733340007, 129.2449371666, 886.0703749999001, 169.159592167, 1214.55291799937, 83.7769855, 0.0, 672.9427816664, 891.8733579995999, 0.0, 726.26075933267, 609.6590520007001, 357.275143834, 96.80278150000001, 127.15142850000001, 311.1889536663, 975.587918167, 0.0, 413.5420181666, 0.0, 554.8758693333999, 150.7999871667, 88.12990766662999, 669.9500983341, 165.37368716699999, 2700.4878774989998, 194.7560403337, 538.88974533303, 0.0, 4.19664316667, 28.9028346666, 1477.0239483322998, 61.7853381666, 52.4319528333, 326.448714, 21.972605, 18.4937245, 518.1875990003, 133.319127167, 321.3727448333, 131.7264965, 360.4108591662, 485.78090949999995, 439.05929566669994, 247.9695998334, 30.647238166630004, 151.60938049966, 241.8322233337, 178.70479883369998, 467.6978279993, 186.94018933324, 0.0, 137.9929768333, 218.3752333334, 1890.9937024994, 547.7397464997, 456.3332818333, 0.0, 24.87366349997, 207.9139188337, 615.9597956661, 0.0, 0.0, 388.23059683327006, 73.7238143333, 248.29428850003, 223.73943383300002, 177.5920131668, 80.5941101667, 12.05914466667, 1055.6871896667, 0.0, 26.1189351667, 854.8288881656, 0.0, 0.0, 576.4643026663, 88.822038, 478.21952616690004, 511.925391, 329.7578566663, 416.14186616669997, 829.9734088337, 101.401498833, 551.1900968329701, 188.8958254999, 411.84511316623, 18.786721, 716.3825241659999, 29.5289625001, 599.325108667, 0.0, 174.4431463334, 0.0, 68.2496686666, 46.6148, 779.5860966676, 285.75573750030003, 164.161086, 4.45095966667, 316.43186650009994]\n",
      "Mean:"
     ]
    },
    {
     "ename": "AttributeError",
     "evalue": "'tuple' object has no attribute 'mean'",
     "output_type": "error",
     "traceback": [
      "\u001b[0;31m---------------------------------------------------------------------------\u001b[0m",
      "\u001b[0;31mAttributeError\u001b[0m                            Traceback (most recent call last)",
      "\u001b[0;32m<ipython-input-231-dd51d1e77e3d>\u001b[0m in \u001b[0;36m<module>\u001b[0;34m()\u001b[0m\n\u001b[1;32m     14\u001b[0m \u001b[0;31m#Anlyze minutes spent\u001b[0m\u001b[0;34m\u001b[0m\u001b[0;34m\u001b[0m\u001b[0m\n\u001b[1;32m     15\u001b[0m \u001b[0mpass_minute_spent\u001b[0m \u001b[0;34m=\u001b[0m \u001b[0msumCertainRecords\u001b[0m\u001b[0;34m(\u001b[0m\u001b[0mgroup_pass_student\u001b[0m\u001b[0;34m,\u001b[0m\u001b[0;34m'total_minutes_visited'\u001b[0m\u001b[0;34m)\u001b[0m\u001b[0;34m\u001b[0m\u001b[0m\n\u001b[0;32m---> 16\u001b[0;31m \u001b[0mdescData\u001b[0m\u001b[0;34m(\u001b[0m\u001b[0mpass_minute_spent\u001b[0m\u001b[0;34m.\u001b[0m\u001b[0mvalues\u001b[0m\u001b[0;34m(\u001b[0m\u001b[0;34m)\u001b[0m\u001b[0;34m)\u001b[0m\u001b[0;34m\u001b[0m\u001b[0m\n\u001b[0m\u001b[1;32m     17\u001b[0m \u001b[0mnon_pass_minute_spent\u001b[0m \u001b[0;34m=\u001b[0m \u001b[0msumCertainRecords\u001b[0m\u001b[0;34m(\u001b[0m\u001b[0mgroup_non_pass_student\u001b[0m\u001b[0;34m,\u001b[0m\u001b[0;34m'total_minutes_visited'\u001b[0m\u001b[0;34m)\u001b[0m\u001b[0;34m\u001b[0m\u001b[0m\n\u001b[1;32m     18\u001b[0m \u001b[0mdescData\u001b[0m\u001b[0;34m(\u001b[0m\u001b[0mnon_pass_minute_spent\u001b[0m\u001b[0;34m.\u001b[0m\u001b[0mvalues\u001b[0m\u001b[0;34m(\u001b[0m\u001b[0;34m)\u001b[0m\u001b[0;34m)\u001b[0m\u001b[0;34m\u001b[0m\u001b[0m\n",
      "\u001b[0;32m<ipython-input-175-1460720d46ac>\u001b[0m in \u001b[0;36mdescData\u001b[0;34m(data)\u001b[0m\n\u001b[1;32m      3\u001b[0m \u001b[0;31m# Summarize the data about minutes spent in the classroom\u001b[0m\u001b[0;34m\u001b[0m\u001b[0;34m\u001b[0m\u001b[0m\n\u001b[1;32m      4\u001b[0m \u001b[0;32mdef\u001b[0m \u001b[0mdescData\u001b[0m\u001b[0;34m(\u001b[0m\u001b[0mdata\u001b[0m\u001b[0;34m)\u001b[0m\u001b[0;34m:\u001b[0m\u001b[0;34m\u001b[0m\u001b[0m\n\u001b[0;32m----> 5\u001b[0;31m     \u001b[0;32mprint\u001b[0m \u001b[0;34m'Mean:'\u001b[0m\u001b[0;34m,\u001b[0m \u001b[0mnp\u001b[0m\u001b[0;34m.\u001b[0m\u001b[0mmean\u001b[0m\u001b[0;34m(\u001b[0m\u001b[0mdata\u001b[0m\u001b[0;34m)\u001b[0m\u001b[0;34m\u001b[0m\u001b[0m\n\u001b[0m\u001b[1;32m      6\u001b[0m     \u001b[0;32mprint\u001b[0m \u001b[0;34m'Standard deviation:'\u001b[0m\u001b[0;34m,\u001b[0m \u001b[0mnp\u001b[0m\u001b[0;34m.\u001b[0m\u001b[0mstd\u001b[0m\u001b[0;34m(\u001b[0m\u001b[0mdata\u001b[0m\u001b[0;34m)\u001b[0m\u001b[0;34m\u001b[0m\u001b[0m\n\u001b[1;32m      7\u001b[0m     \u001b[0;32mprint\u001b[0m \u001b[0;34m'Minimum:'\u001b[0m\u001b[0;34m,\u001b[0m \u001b[0mnp\u001b[0m\u001b[0;34m.\u001b[0m\u001b[0mmin\u001b[0m\u001b[0;34m(\u001b[0m\u001b[0mdata\u001b[0m\u001b[0;34m)\u001b[0m\u001b[0;34m\u001b[0m\u001b[0m\n",
      "\u001b[0;31mAttributeError\u001b[0m: 'tuple' object has no attribute 'mean'"
     ]
    }
   ],
   "source": [
    "######################################\n",
    "#                 12                 #\n",
    "######################################\n",
    "\n",
    "## Compute some metrics you're interested in and see how they differ for\n",
    "## students who pass the subway project vs. students who don't. A good\n",
    "## starting point would be the metrics we looked at earlier (minutes spent\n",
    "## in the classroom, lessons completed, and days visited).\n",
    "\n",
    "\n",
    "group_pass_student= groupElement(passing_engagement,'account_key')\n",
    "group_non_pass_student= groupElement(non_passing_engagement,'account_key')\n",
    "#Anlyze minutes spent\n",
    "pass_minute_spent = sumCertainRecords(group_pass_student,'total_minutes_visited')\n",
    "descData(pass_minute_spent.values())\n",
    "non_pass_minute_spent = sumCertainRecords(group_non_pass_student,'total_minutes_visited')\n",
    "descData(non_pass_minute_spent.values())\n",
    "\n",
    "pass_lessons_completed = sumCertainRecords(group_pass_student,'lessons_completed')\n",
    "descData(pass_lessons_completed.values())\n",
    "non_pass_lessons_completed = sumCertainRecords(group_non_pass_student,'lessons_completed')\n",
    "descData(non_pass_lessons_completed.values())\n",
    "\n",
    "pass_has_visited = sumCertainRecords(group_pass_student,'has_visited')\n",
    "descData(pass_has_visited.values())\n",
    "non_pass_has_visited = sumCertainRecords(group_non_pass_student,'has_visited')\n",
    "descData(non_pass_has_visited.values())\n",
    "\n",
    "\n",
    "len(pass_has_visited)"
   ]
  },
  {
   "cell_type": "markdown",
   "metadata": {},
   "source": [
    "## Making Histograms"
   ]
  },
  {
   "cell_type": "code",
   "execution_count": 230,
   "metadata": {
    "collapsed": false
   },
   "outputs": [
    {
     "data": {
      "image/png": "[encoded data removed]",
      "text/plain": [
       "<matplotlib.figure.Figure at 0x117730d10>"
      ]
     },
     "metadata": {},
     "output_type": "display_data"
    },
    {
     "name": "stdout",
     "output_type": "stream",
     "text": [
      "\n"
     ]
    }
   ],
   "source": [
    "######################################\n",
    "#                 13                 #\n",
    "######################################\n",
    "\n",
    "## Make histograms of the three metrics we looked at earlier for both\n",
    "## students who passed the subway project and students who didn't. You\n",
    "## might also want to make histograms of any other metrics you examined.\n",
    "\n",
    "\n",
    "import matplotlib.pyplot as plt\n",
    "p=plt.hist(pass_lessons_completed.values())\n",
    "np=plt.hist(non_pass_lessons_completed.values())\n",
    "show(p)\n",
    "show(np)"
   ]
  },
  {
   "cell_type": "markdown",
   "metadata": {},
   "source": [
    "## Improving Plots and Sharing Findings"
   ]
  },
  {
   "cell_type": "code",
   "execution_count": 223,
   "metadata": {
    "collapsed": false
   },
   "outputs": [
    {
     "data": {
      "text/plain": [
       "(array([ 272.,   34.,   17.,    9.,    6.,    2.,    1.,    5.,    0.,    2.]),\n",
       " array([    0.        ,   176.85227493,   353.70454987,   530.5568248 ,\n",
       "          707.40909973,   884.26137467,  1061.1136496 ,  1237.96592453,\n",
       "         1414.81819947,  1591.6704744 ,  1768.52274933]),\n",
       " <a list of 10 Patch objects>)"
      ]
     },
     "execution_count": 223,
     "metadata": {},
     "output_type": "execute_result"
    },
    {
     "data": {
      "image/png": "[encoded data removed]",
      "text/plain": [
       "<matplotlib.figure.Figure at 0x1035ce450>"
      ]
     },
     "metadata": {},
     "output_type": "display_data"
    }
   ],
   "source": [
    "plt.hist(pass_minute_spent.values())\n",
    "plt.hist(non_pass_minute_spent.values())"
   ]
  },
  {
   "cell_type": "code",
   "execution_count": 225,
   "metadata": {
    "collapsed": false
   },
   "outputs": [
    {
     "data": {
      "text/plain": [
       "(array([ 97.,  90.,  56.,  41.,  15.,  24.,  25.]),\n",
       " array([ 0.,  1.,  2.,  3.,  4.,  5.,  6.,  7.]),\n",
       " <a list of 7 Patch objects>)"
      ]
     },
     "execution_count": 225,
     "metadata": {},
     "output_type": "execute_result"
    },
    {
     "data": {
      "image/png": "[encoded data removed]",
      "text/plain": [
       "<matplotlib.figure.Figure at 0x1175af5d0>"
      ]
     },
     "metadata": {},
     "output_type": "display_data"
    }
   ],
   "source": [
    "plt.hist(pass_has_visited.values(),bins=7)\n",
    "plt.hist(non_pass_has_visited.values(),bins=7)"
   ]
  },
  {
   "cell_type": "code",
   "execution_count": null,
   "metadata": {
    "collapsed": true
   },
   "outputs": [],
   "source": [
    "######################################\n",
    "#                 14                 #\n",
    "######################################\n",
    "\n",
    "## Make a more polished version of at least one of your visualizations\n",
    "## from earlier. Try importing the seaborn library to make the visualization\n",
    "## look better, adding axis labels and a title, and changing one or more\n",
    "## arguments to the hist() function.\n",
    "\n",
    "feature_list=['total_minutes_visited','num_courses_visited','lessons_completed','projects_completed']\n",
    "\n",
    "\n",
    "\n",
    "\n",
    "\n"
   ]
  }
 ],
 "metadata": {
  "kernelspec": {
   "display_name": "Python 2",
   "language": "python",
   "name": "python2"
  },
  "language_info": {
   "codemirror_mode": {
    "name": "ipython",
    "version": 2
   },
   "file_extension": ".py",
   "mimetype": "text/x-python",
   "name": "python",
   "nbconvert_exporter": "python",
   "pygments_lexer": "ipython2",
   "version": "2.7.10"
  }
 },
 "nbformat": 4,
 "nbformat_minor": 0
}
