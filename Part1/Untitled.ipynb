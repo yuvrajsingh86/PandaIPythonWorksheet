{
 "cells": [
  {
   "cell_type": "code",
   "execution_count": 8,
   "metadata": {
    "collapsed": false
   },
   "outputs": [
    {
     "name": "stdout",
     "output_type": "stream",
     "text": [
      "{u'status': u'canceled', u'is_udacity': u'True', u'is_canceled': u'True', u'join_date': u'2014-11-10', u'account_key': u'448', u'cancel_date': u'2015-01-14', u'days_to_cancel': u'65'}\n",
      "{u'lessons_completed': u'0.0', u'num_courses_visited': u'1.0', u'total_minutes_visited': u'11.6793745', u'projects_completed': u'0.0', u'acct': u'0', u'utc_date': u'2015-01-09'}\n",
      "{u'lesson_key': u'3176718735', u'processing_state': u'EVALUATED', u'account_key': u'256', u'assigned_rating': u'UNGRADED', u'completion_date': u'2015-01-16', u'creation_date': u'2015-01-14'}\n"
     ]
    }
   ],
   "source": [
    "#import pandas as pd\n",
    "#df= pd.read_csv('enrollments.csv')\n",
    "#df\n",
    "import unicodecsv\n",
    "\n",
    "with open('enrollments.csv','rb') as f:\n",
    "    reader= unicodecsv.DictReader(f)\n",
    "    enrollment=list(reader)\n",
    "print enrollment[0]\n",
    "\n",
    "with open('daily_engagement.csv','rb') as f:\n",
    "    reader= unicodecsv.DictReader(f)\n",
    "    daily_engagement=list(reader)\n",
    "print daily_engagement[0]\n",
    "\n",
    "with open('project_submissions.csv','rb') as f:\n",
    "    reader=unicodecsv.DictReader(f)\n",
    "    project_submissions=list(reader)\n",
    "print project_submissions[0]"
   ]
  },
  {
   "cell_type": "code",
   "execution_count": null,
   "metadata": {
    "collapsed": true
   },
   "outputs": [],
   "source": []
  }
 ],
 "metadata": {
  "kernelspec": {
   "display_name": "Python 2",
   "language": "python",
   "name": "python2"
  },
  "language_info": {
   "codemirror_mode": {
    "name": "ipython",
    "version": 2
   },
   "file_extension": ".py",
   "mimetype": "text/x-python",
   "name": "python",
   "nbconvert_exporter": "python",
   "pygments_lexer": "ipython2",
   "version": "2.7.10"
  }
 },
 "nbformat": 4,
 "nbformat_minor": 0
}
